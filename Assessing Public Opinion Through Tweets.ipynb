{
 "cells": [
  {
   "cell_type": "markdown",
   "id": "5e9d0001",
   "metadata": {},
   "source": [
    "# Assessing Public opinion of a company through Financial tweets"
   ]
  },
  {
   "cell_type": "markdown",
   "id": "1c35c9ab",
   "metadata": {},
   "source": [
    "* This research intends to replicate the study titled: \"Assessing Public Opinions Through Web 2.0: A Case Study on Wal-mart\" engaging different methodologies\n",
    "\n",
    "* Although, for this context, I will be engaging a different dataset retrieved from Kaggle: https://www.kaggle.com/datasets/davidwallach/financial-tweets/data?select=stockerbot-export.csv. \n",
    "\n",
    "* The dataset for the original study is not available at the highlighted url. The forum was inactive."
   ]
  },
  {
   "cell_type": "markdown",
   "id": "ffb39264",
   "metadata": {},
   "source": [
    "#install Spacy\n",
    "! pip install spacy"
   ]
  },
  {
   "cell_type": "code",
   "execution_count": 153,
   "id": "57cfeba1",
   "metadata": {},
   "outputs": [],
   "source": [
    "#import libraries\n",
    "import pandas as pd\n",
    "import numpy as np\n",
    "import spacy as sp"
   ]
  },
  {
   "cell_type": "code",
   "execution_count": 154,
   "id": "0967c67b",
   "metadata": {},
   "outputs": [],
   "source": [
    "#names=[\"id\",\"text\",\"timestamp\",\"source\",\"symbols\",\"company_names\",\"url\",\"verified\"]\n",
    "#used on_bad_lines='skip' to escape text with special characted causing an issue with file to be read\n",
    "#downside of this is losing data\n",
    "\n",
    "raw_data = pd.read_csv('./Downloads/archive-3/stockerbot-export.csv',on_bad_lines='skip')"
   ]
  },
  {
   "cell_type": "code",
   "execution_count": 155,
   "id": "361fadea",
   "metadata": {},
   "outputs": [
    {
     "data": {
      "text/plain": [
       "(28264, 8)"
      ]
     },
     "execution_count": 155,
     "metadata": {},
     "output_type": "execute_result"
    }
   ],
   "source": [
    "#find number of rows\n",
    "raw_data.shape"
   ]
  },
  {
   "cell_type": "markdown",
   "id": "8eb00b54",
   "metadata": {},
   "source": [
    "*** Data has 28624 rows and 8 attributes (\"id\",\"text\",\"timestamp\",\"source\",\"symbols\",\"company_names\",\"url\",\"verified\")"
   ]
  },
  {
   "cell_type": "code",
   "execution_count": 156,
   "id": "c0935670",
   "metadata": {},
   "outputs": [
    {
     "data": {
      "text/html": [
       "<div>\n",
       "<style scoped>\n",
       "    .dataframe tbody tr th:only-of-type {\n",
       "        vertical-align: middle;\n",
       "    }\n",
       "\n",
       "    .dataframe tbody tr th {\n",
       "        vertical-align: top;\n",
       "    }\n",
       "\n",
       "    .dataframe thead th {\n",
       "        text-align: right;\n",
       "    }\n",
       "</style>\n",
       "<table border=\"1\" class=\"dataframe\">\n",
       "  <thead>\n",
       "    <tr style=\"text-align: right;\">\n",
       "      <th></th>\n",
       "      <th>id</th>\n",
       "      <th>text</th>\n",
       "      <th>timestamp</th>\n",
       "      <th>source</th>\n",
       "      <th>symbols</th>\n",
       "      <th>company_names</th>\n",
       "      <th>url</th>\n",
       "      <th>verified</th>\n",
       "    </tr>\n",
       "  </thead>\n",
       "  <tbody>\n",
       "    <tr>\n",
       "      <th>0</th>\n",
       "      <td>1019696670777503700</td>\n",
       "      <td>VIDEO: “I was in my office. I was minding my own business...” –David Solomon tells $GS interns how he learned he wa… https://t.co/QClAITywXV</td>\n",
       "      <td>Wed Jul 18 21:33:26 +0000 2018</td>\n",
       "      <td>GoldmanSachs</td>\n",
       "      <td>GS</td>\n",
       "      <td>The Goldman Sachs</td>\n",
       "      <td>https://twitter.com/i/web/status/1019696670777503745</td>\n",
       "      <td>True</td>\n",
       "    </tr>\n",
       "    <tr>\n",
       "      <th>1</th>\n",
       "      <td>1019709091038548000</td>\n",
       "      <td>The price of lumber $LB_F is down 22% since hitting its YTD highs. The Macy's $M turnaround is still happening.… https://t.co/XnKsV4De39</td>\n",
       "      <td>Wed Jul 18 22:22:47 +0000 2018</td>\n",
       "      <td>StockTwits</td>\n",
       "      <td>M</td>\n",
       "      <td>Macy's</td>\n",
       "      <td>https://twitter.com/i/web/status/1019709091038547968</td>\n",
       "      <td>True</td>\n",
       "    </tr>\n",
       "    <tr>\n",
       "      <th>2</th>\n",
       "      <td>1019711413798035500</td>\n",
       "      <td>Who says the American Dream is dead? https://t.co/CRgx19x7sA</td>\n",
       "      <td>Wed Jul 18 22:32:01 +0000 2018</td>\n",
       "      <td>TheStreet</td>\n",
       "      <td>AIG</td>\n",
       "      <td>American</td>\n",
       "      <td>https://buff.ly/2L3kmc4</td>\n",
       "      <td>True</td>\n",
       "    </tr>\n",
       "    <tr>\n",
       "      <th>3</th>\n",
       "      <td>1019716662587740200</td>\n",
       "      <td>Barry Silbert is extremely optimistic on bitcoin -- but predicts that 99% of new crypto entrants are “going to zero… https://t.co/mGMVo2cZgY</td>\n",
       "      <td>Wed Jul 18 22:52:52 +0000 2018</td>\n",
       "      <td>MarketWatch</td>\n",
       "      <td>BTC</td>\n",
       "      <td>Bitcoin</td>\n",
       "      <td>https://twitter.com/i/web/status/1019716662587740160</td>\n",
       "      <td>True</td>\n",
       "    </tr>\n",
       "    <tr>\n",
       "      <th>4</th>\n",
       "      <td>1019718460287389700</td>\n",
       "      <td>How satellites avoid attacks and space junk while circling the Earth https://t.co/aHzIV3Lqp5 #paid @Oracle https://t.co/kacpqZWiDJ</td>\n",
       "      <td>Wed Jul 18 23:00:01 +0000 2018</td>\n",
       "      <td>Forbes</td>\n",
       "      <td>ORCL</td>\n",
       "      <td>Oracle</td>\n",
       "      <td>http://on.forbes.com/6013DqDDU</td>\n",
       "      <td>True</td>\n",
       "    </tr>\n",
       "  </tbody>\n",
       "</table>\n",
       "</div>"
      ],
      "text/plain": [
       "                    id  \\\n",
       "0  1019696670777503700   \n",
       "1  1019709091038548000   \n",
       "2  1019711413798035500   \n",
       "3  1019716662587740200   \n",
       "4  1019718460287389700   \n",
       "\n",
       "                                                                                                                                           text  \\\n",
       "0  VIDEO: “I was in my office. I was minding my own business...” –David Solomon tells $GS interns how he learned he wa… https://t.co/QClAITywXV   \n",
       "1      The price of lumber $LB_F is down 22% since hitting its YTD highs. The Macy's $M turnaround is still happening.… https://t.co/XnKsV4De39   \n",
       "2                                                                                  Who says the American Dream is dead? https://t.co/CRgx19x7sA   \n",
       "3  Barry Silbert is extremely optimistic on bitcoin -- but predicts that 99% of new crypto entrants are “going to zero… https://t.co/mGMVo2cZgY   \n",
       "4            How satellites avoid attacks and space junk while circling the Earth https://t.co/aHzIV3Lqp5 #paid @Oracle https://t.co/kacpqZWiDJ   \n",
       "\n",
       "                        timestamp        source symbols      company_names  \\\n",
       "0  Wed Jul 18 21:33:26 +0000 2018  GoldmanSachs      GS  The Goldman Sachs   \n",
       "1  Wed Jul 18 22:22:47 +0000 2018    StockTwits       M             Macy's   \n",
       "2  Wed Jul 18 22:32:01 +0000 2018     TheStreet     AIG           American   \n",
       "3  Wed Jul 18 22:52:52 +0000 2018   MarketWatch     BTC            Bitcoin   \n",
       "4  Wed Jul 18 23:00:01 +0000 2018        Forbes    ORCL             Oracle   \n",
       "\n",
       "                                                    url  verified  \n",
       "0  https://twitter.com/i/web/status/1019696670777503745      True  \n",
       "1  https://twitter.com/i/web/status/1019709091038547968      True  \n",
       "2                               https://buff.ly/2L3kmc4      True  \n",
       "3  https://twitter.com/i/web/status/1019716662587740160      True  \n",
       "4                        http://on.forbes.com/6013DqDDU      True  "
      ]
     },
     "execution_count": 156,
     "metadata": {},
     "output_type": "execute_result"
    }
   ],
   "source": [
    "#view data\n",
    "raw_data.head()"
   ]
  },
  {
   "cell_type": "markdown",
   "id": "021f196f",
   "metadata": {},
   "source": [
    "### Exploratory Analysis"
   ]
  },
  {
   "cell_type": "code",
   "execution_count": 157,
   "id": "97f0ac3f",
   "metadata": {},
   "outputs": [
    {
     "data": {
      "text/plain": [
       "Index(['id', 'text', 'timestamp', 'source', 'symbols', 'company_names', 'url',\n",
       "       'verified'],\n",
       "      dtype='object')"
      ]
     },
     "execution_count": 157,
     "metadata": {},
     "output_type": "execute_result"
    }
   ],
   "source": [
    "#get column names\n",
    "raw_data.columns"
   ]
  },
  {
   "cell_type": "code",
   "execution_count": 158,
   "id": "52bf2d28",
   "metadata": {},
   "outputs": [
    {
     "data": {
      "text/plain": [
       "Twenty-First Century Fox        131\n",
       "Alphabet Inc.                   116\n",
       "Discovery                       102\n",
       "Netflix                         101\n",
       "Honeywell International Inc.    100\n",
       "                               ... \n",
       "Facebook*Alphabet*Alphabet        1\n",
       "Intel*U.S.                        1\n",
       "Harris                            1\n",
       "JD                                1\n",
       "The Goldman Sachs                 1\n",
       "Name: company_names, Length: 461, dtype: int64"
      ]
     },
     "execution_count": 158,
     "metadata": {},
     "output_type": "execute_result"
    }
   ],
   "source": [
    "# How many companies are present in this dataset?\n",
    "raw_data['company_names'].value_counts()"
   ]
  },
  {
   "cell_type": "code",
   "execution_count": 159,
   "id": "d06f7876",
   "metadata": {},
   "outputs": [
    {
     "data": {
      "text/plain": [
       "company_names\n",
       " name              1\n",
       "3M Company        60\n",
       "ANSYS             37\n",
       "AT&T Inc.         44\n",
       "AbbVie Inc.       95\n",
       "                  ..\n",
       "Zoetis Inc.       75\n",
       "Zynga Inc.        46\n",
       "eBay               1\n",
       "eBay Inc.         79\n",
       "salesforce.com    54\n",
       "Name: id, Length: 461, dtype: int64"
      ]
     },
     "execution_count": 159,
     "metadata": {},
     "output_type": "execute_result"
    }
   ],
   "source": [
    "raw_data.groupby('company_names').count()['id']"
   ]
  },
  {
   "cell_type": "code",
   "execution_count": 160,
   "id": "67f762df",
   "metadata": {},
   "outputs": [
    {
     "data": {
      "text/html": [
       "<div>\n",
       "<style scoped>\n",
       "    .dataframe tbody tr th:only-of-type {\n",
       "        vertical-align: middle;\n",
       "    }\n",
       "\n",
       "    .dataframe tbody tr th {\n",
       "        vertical-align: top;\n",
       "    }\n",
       "\n",
       "    .dataframe thead th {\n",
       "        text-align: right;\n",
       "    }\n",
       "</style>\n",
       "<table border=\"1\" class=\"dataframe\">\n",
       "  <thead>\n",
       "    <tr style=\"text-align: right;\">\n",
       "      <th></th>\n",
       "      <th>symbols</th>\n",
       "    </tr>\n",
       "  </thead>\n",
       "  <tbody>\n",
       "    <tr>\n",
       "      <th>NFLX</th>\n",
       "      <td>101</td>\n",
       "    </tr>\n",
       "    <tr>\n",
       "      <th>AMAT</th>\n",
       "      <td>100</td>\n",
       "    </tr>\n",
       "    <tr>\n",
       "      <th>GPS</th>\n",
       "      <td>100</td>\n",
       "    </tr>\n",
       "    <tr>\n",
       "      <th>MOMO</th>\n",
       "      <td>100</td>\n",
       "    </tr>\n",
       "    <tr>\n",
       "      <th>HON</th>\n",
       "      <td>100</td>\n",
       "    </tr>\n",
       "    <tr>\n",
       "      <th>...</th>\n",
       "      <td>...</td>\n",
       "    </tr>\n",
       "    <tr>\n",
       "      <th>INTC-USB</th>\n",
       "      <td>1</td>\n",
       "    </tr>\n",
       "    <tr>\n",
       "      <th>AMZN-GPS</th>\n",
       "      <td>1</td>\n",
       "    </tr>\n",
       "    <tr>\n",
       "      <th>FB-GOOGL-GOOG</th>\n",
       "      <td>1</td>\n",
       "    </tr>\n",
       "    <tr>\n",
       "      <th>M</th>\n",
       "      <td>1</td>\n",
       "    </tr>\n",
       "    <tr>\n",
       "      <th>GS</th>\n",
       "      <td>1</td>\n",
       "    </tr>\n",
       "  </tbody>\n",
       "</table>\n",
       "<p>453 rows × 1 columns</p>\n",
       "</div>"
      ],
      "text/plain": [
       "               symbols\n",
       "NFLX               101\n",
       "AMAT               100\n",
       "GPS                100\n",
       "MOMO               100\n",
       "HON                100\n",
       "...                ...\n",
       "INTC-USB             1\n",
       "AMZN-GPS             1\n",
       "FB-GOOGL-GOOG        1\n",
       "M                    1\n",
       "GS                   1\n",
       "\n",
       "[453 rows x 1 columns]"
      ]
     },
     "execution_count": 160,
     "metadata": {},
     "output_type": "execute_result"
    }
   ],
   "source": [
    "pd.DataFrame(raw_data['symbols'].value_counts())"
   ]
  },
  {
   "cell_type": "code",
   "execution_count": 161,
   "id": "f094bdf0",
   "metadata": {},
   "outputs": [],
   "source": [
    "#store text frequency result in a dataframe\n",
    "company_txt_frq = pd.DataFrame(raw_data['symbols'].value_counts())"
   ]
  },
  {
   "cell_type": "code",
   "execution_count": 162,
   "id": "8d8b8b6b",
   "metadata": {},
   "outputs": [
    {
     "data": {
      "text/html": [
       "<div>\n",
       "<style scoped>\n",
       "    .dataframe tbody tr th:only-of-type {\n",
       "        vertical-align: middle;\n",
       "    }\n",
       "\n",
       "    .dataframe tbody tr th {\n",
       "        vertical-align: top;\n",
       "    }\n",
       "\n",
       "    .dataframe thead th {\n",
       "        text-align: right;\n",
       "    }\n",
       "</style>\n",
       "<table border=\"1\" class=\"dataframe\">\n",
       "  <thead>\n",
       "    <tr style=\"text-align: right;\">\n",
       "      <th></th>\n",
       "      <th>symbols</th>\n",
       "    </tr>\n",
       "  </thead>\n",
       "  <tbody>\n",
       "    <tr>\n",
       "      <th>NFLX</th>\n",
       "      <td>101</td>\n",
       "    </tr>\n",
       "    <tr>\n",
       "      <th>AMAT</th>\n",
       "      <td>100</td>\n",
       "    </tr>\n",
       "    <tr>\n",
       "      <th>GPS</th>\n",
       "      <td>100</td>\n",
       "    </tr>\n",
       "    <tr>\n",
       "      <th>MOMO</th>\n",
       "      <td>100</td>\n",
       "    </tr>\n",
       "    <tr>\n",
       "      <th>HON</th>\n",
       "      <td>100</td>\n",
       "    </tr>\n",
       "    <tr>\n",
       "      <th>MTB</th>\n",
       "      <td>100</td>\n",
       "    </tr>\n",
       "    <tr>\n",
       "      <th>ES</th>\n",
       "      <td>100</td>\n",
       "    </tr>\n",
       "    <tr>\n",
       "      <th>MAS</th>\n",
       "      <td>99</td>\n",
       "    </tr>\n",
       "    <tr>\n",
       "      <th>ESS</th>\n",
       "      <td>99</td>\n",
       "    </tr>\n",
       "    <tr>\n",
       "      <th>GRPN</th>\n",
       "      <td>99</td>\n",
       "    </tr>\n",
       "    <tr>\n",
       "      <th>MHK</th>\n",
       "      <td>99</td>\n",
       "    </tr>\n",
       "    <tr>\n",
       "      <th>BLK</th>\n",
       "      <td>97</td>\n",
       "    </tr>\n",
       "    <tr>\n",
       "      <th>FOX</th>\n",
       "      <td>97</td>\n",
       "    </tr>\n",
       "    <tr>\n",
       "      <th>IR</th>\n",
       "      <td>97</td>\n",
       "    </tr>\n",
       "    <tr>\n",
       "      <th>TEL</th>\n",
       "      <td>97</td>\n",
       "    </tr>\n",
       "    <tr>\n",
       "      <th>HLT</th>\n",
       "      <td>97</td>\n",
       "    </tr>\n",
       "    <tr>\n",
       "      <th>UPS</th>\n",
       "      <td>97</td>\n",
       "    </tr>\n",
       "    <tr>\n",
       "      <th>NTNX</th>\n",
       "      <td>96</td>\n",
       "    </tr>\n",
       "    <tr>\n",
       "      <th>D</th>\n",
       "      <td>96</td>\n",
       "    </tr>\n",
       "    <tr>\n",
       "      <th>DFS</th>\n",
       "      <td>95</td>\n",
       "    </tr>\n",
       "  </tbody>\n",
       "</table>\n",
       "</div>"
      ],
      "text/plain": [
       "      symbols\n",
       "NFLX      101\n",
       "AMAT      100\n",
       "GPS       100\n",
       "MOMO      100\n",
       "HON       100\n",
       "MTB       100\n",
       "ES        100\n",
       "MAS        99\n",
       "ESS        99\n",
       "GRPN       99\n",
       "MHK        99\n",
       "BLK        97\n",
       "FOX        97\n",
       "IR         97\n",
       "TEL        97\n",
       "HLT        97\n",
       "UPS        97\n",
       "NTNX       96\n",
       "D          96\n",
       "DFS        95"
      ]
     },
     "execution_count": 162,
     "metadata": {},
     "output_type": "execute_result"
    }
   ],
   "source": [
    "#view\n",
    "company_txt_frq.head(20)"
   ]
  },
  {
   "cell_type": "markdown",
   "id": "3390a313",
   "metadata": {},
   "source": [
    "* Nextflix has the highest frequency of text in this dataset\n",
    "* We subset the data to focus only on text on Netflix to streamline the analysis"
   ]
  },
  {
   "cell_type": "code",
   "execution_count": 163,
   "id": "3e8dadc4",
   "metadata": {},
   "outputs": [],
   "source": [
    "#retrieve data on Netflix only for further analysis\n",
    "Netflix_text_data = raw_data[raw_data[\"company_names\"]==\"Netflix\"]"
   ]
  },
  {
   "cell_type": "code",
   "execution_count": 164,
   "id": "d300aa07",
   "metadata": {},
   "outputs": [
    {
     "data": {
      "text/html": [
       "<div>\n",
       "<style scoped>\n",
       "    .dataframe tbody tr th:only-of-type {\n",
       "        vertical-align: middle;\n",
       "    }\n",
       "\n",
       "    .dataframe tbody tr th {\n",
       "        vertical-align: top;\n",
       "    }\n",
       "\n",
       "    .dataframe thead th {\n",
       "        text-align: right;\n",
       "    }\n",
       "</style>\n",
       "<table border=\"1\" class=\"dataframe\">\n",
       "  <thead>\n",
       "    <tr style=\"text-align: right;\">\n",
       "      <th></th>\n",
       "      <th>id</th>\n",
       "      <th>text</th>\n",
       "      <th>timestamp</th>\n",
       "      <th>source</th>\n",
       "      <th>symbols</th>\n",
       "      <th>company_names</th>\n",
       "      <th>url</th>\n",
       "      <th>verified</th>\n",
       "    </tr>\n",
       "  </thead>\n",
       "  <tbody>\n",
       "    <tr>\n",
       "      <th>8</th>\n",
       "      <td>1019720723441635300</td>\n",
       "      <td>Senate wants emergency alerts to go out through Netflix Spotify etc. https://t.co/23yy3whBlc by @grg</td>\n",
       "      <td>Wed Jul 18 23:09:00 +0000 2018</td>\n",
       "      <td>TechCrunch</td>\n",
       "      <td>NFLX</td>\n",
       "      <td>Netflix</td>\n",
       "      <td>https://tcrn.ch/2L8DsgT</td>\n",
       "      <td>True</td>\n",
       "    </tr>\n",
       "    <tr>\n",
       "      <th>26216</th>\n",
       "      <td>1019690098236055600</td>\n",
       "      <td>Netflix $NFLX just released quarterly 10-Q.  Quarterly net income increased from 127M to 462 Million!!! 400% ⬆️ https://t.co/K9JywuGpjN</td>\n",
       "      <td>Wed Jul 18 21:07:19 +0000 2018</td>\n",
       "      <td>Feedmeistercom</td>\n",
       "      <td>NFLX</td>\n",
       "      <td>Netflix</td>\n",
       "      <td>NaN</td>\n",
       "      <td>False</td>\n",
       "    </tr>\n",
       "    <tr>\n",
       "      <th>26223</th>\n",
       "      <td>1019690300187533300</td>\n",
       "      <td>RT @blackbullforex: Excluding FAANG Stocks The S&amp;amp;P Would Be Negative @BankofAmerica  Just the Top 4 stocks Amazon Microsoft Apple and N…</td>\n",
       "      <td>Wed Jul 18 21:08:07 +0000 2018</td>\n",
       "      <td>dexoidan</td>\n",
       "      <td>NFLX</td>\n",
       "      <td>Netflix</td>\n",
       "      <td>NaN</td>\n",
       "      <td>False</td>\n",
       "    </tr>\n",
       "    <tr>\n",
       "      <th>26236</th>\n",
       "      <td>1019690538398707700</td>\n",
       "      <td>RT @RampCapitalLLC: Here is where $FANG was trading the last time the National League won the MLB All Star Game: $FB $31.47 $AMZN $219.50…</td>\n",
       "      <td>Wed Jul 18 21:09:03 +0000 2018</td>\n",
       "      <td>hs_traders</td>\n",
       "      <td>NFLX</td>\n",
       "      <td>Netflix</td>\n",
       "      <td>NaN</td>\n",
       "      <td>False</td>\n",
       "    </tr>\n",
       "    <tr>\n",
       "      <th>26239</th>\n",
       "      <td>1019690604559851500</td>\n",
       "      <td>RT @SevenPointsCap: Trader Takeaways 7.18.18 by @kris23joshi. Focus on $SPY $NFLX $UVXY $MS $CSX $ABT and $UAL. https://t.co/NvwYhYaALs</td>\n",
       "      <td>Wed Jul 18 21:09:19 +0000 2018</td>\n",
       "      <td>clovisskyline</td>\n",
       "      <td>NFLX</td>\n",
       "      <td>Netflix</td>\n",
       "      <td>http://youtu.be/MLmX7WMEBVM?a</td>\n",
       "      <td>False</td>\n",
       "    </tr>\n",
       "  </tbody>\n",
       "</table>\n",
       "</div>"
      ],
      "text/plain": [
       "                        id  \\\n",
       "8      1019720723441635300   \n",
       "26216  1019690098236055600   \n",
       "26223  1019690300187533300   \n",
       "26236  1019690538398707700   \n",
       "26239  1019690604559851500   \n",
       "\n",
       "                                                                                                                                               text  \\\n",
       "8                                              Senate wants emergency alerts to go out through Netflix Spotify etc. https://t.co/23yy3whBlc by @grg   \n",
       "26216       Netflix $NFLX just released quarterly 10-Q.  Quarterly net income increased from 127M to 462 Million!!! 400% ⬆️ https://t.co/K9JywuGpjN   \n",
       "26223  RT @blackbullforex: Excluding FAANG Stocks The S&amp;P Would Be Negative @BankofAmerica  Just the Top 4 stocks Amazon Microsoft Apple and N…   \n",
       "26236    RT @RampCapitalLLC: Here is where $FANG was trading the last time the National League won the MLB All Star Game: $FB $31.47 $AMZN $219.50…   \n",
       "26239       RT @SevenPointsCap: Trader Takeaways 7.18.18 by @kris23joshi. Focus on $SPY $NFLX $UVXY $MS $CSX $ABT and $UAL. https://t.co/NvwYhYaALs   \n",
       "\n",
       "                            timestamp          source symbols company_names  \\\n",
       "8      Wed Jul 18 23:09:00 +0000 2018      TechCrunch    NFLX       Netflix   \n",
       "26216  Wed Jul 18 21:07:19 +0000 2018  Feedmeistercom    NFLX       Netflix   \n",
       "26223  Wed Jul 18 21:08:07 +0000 2018        dexoidan    NFLX       Netflix   \n",
       "26236  Wed Jul 18 21:09:03 +0000 2018      hs_traders    NFLX       Netflix   \n",
       "26239  Wed Jul 18 21:09:19 +0000 2018   clovisskyline    NFLX       Netflix   \n",
       "\n",
       "                                 url  verified  \n",
       "8            https://tcrn.ch/2L8DsgT      True  \n",
       "26216                            NaN     False  \n",
       "26223                            NaN     False  \n",
       "26236                            NaN     False  \n",
       "26239  http://youtu.be/MLmX7WMEBVM?a     False  "
      ]
     },
     "execution_count": 164,
     "metadata": {},
     "output_type": "execute_result"
    }
   ],
   "source": [
    "#view first five rows\n",
    "Netflix_text_data.head()"
   ]
  },
  {
   "cell_type": "code",
   "execution_count": 165,
   "id": "0ef0570f",
   "metadata": {},
   "outputs": [
    {
     "data": {
      "text/plain": [
       "(101, 8)"
      ]
     },
     "execution_count": 165,
     "metadata": {},
     "output_type": "execute_result"
    }
   ],
   "source": [
    "#check size\n",
    "Netflix_text_data.shape"
   ]
  },
  {
   "cell_type": "code",
   "execution_count": 166,
   "id": "7ffe6298",
   "metadata": {},
   "outputs": [
    {
     "data": {
      "text/plain": [
       "id                int64\n",
       "text             object\n",
       "timestamp        object\n",
       "source           object\n",
       "symbols          object\n",
       "company_names    object\n",
       "url              object\n",
       "verified           bool\n",
       "dtype: object"
      ]
     },
     "execution_count": 166,
     "metadata": {},
     "output_type": "execute_result"
    }
   ],
   "source": [
    "#check data type of columns\n",
    "Netflix_text_data.dtypes"
   ]
  },
  {
   "cell_type": "code",
   "execution_count": 167,
   "id": "8196ea41",
   "metadata": {},
   "outputs": [
    {
     "name": "stdout",
     "output_type": "stream",
     "text": [
      "Wed Jul 18 21:07:19 +0000 2018\n",
      "Wed Jul 18 23:45:04 +0000 2018\n"
     ]
    }
   ],
   "source": [
    "#check timestamp range\n",
    "print(min(Netflix_text_data['timestamp']))\n",
    "print(max(Netflix_text_data['timestamp']))"
   ]
  },
  {
   "cell_type": "markdown",
   "id": "6f5fe513",
   "metadata": {},
   "source": [
    "* The texts spanned a single across a period of two hours"
   ]
  },
  {
   "cell_type": "code",
   "execution_count": 168,
   "id": "9f781d59",
   "metadata": {},
   "outputs": [
    {
     "data": {
      "text/plain": [
       "101"
      ]
     },
     "execution_count": 168,
     "metadata": {},
     "output_type": "execute_result"
    }
   ],
   "source": [
    "#check for unique ids\n",
    "len(Netflix_text_data['id'].unique())"
   ]
  },
  {
   "cell_type": "markdown",
   "id": "0ece3acb",
   "metadata": {},
   "source": [
    "* There 101 unique ids. That means each text can identified as coming from a different source.\n",
    "* Let's corroborate this with checking by source"
   ]
  },
  {
   "cell_type": "code",
   "execution_count": 169,
   "id": "32877202",
   "metadata": {},
   "outputs": [
    {
     "data": {
      "text/plain": [
       "source\n",
       "10minutetrading    1\n",
       "143stock           1\n",
       "28delayslater      1\n",
       "ABraveBull         1\n",
       "AlertsChina        1\n",
       "                  ..\n",
       "tex_films          1\n",
       "the_chart_life     1\n",
       "tradnews_          1\n",
       "ttttt0mmmmm        1\n",
       "watchfulmkteye     1\n",
       "Name: text, Length: 93, dtype: int64"
      ]
     },
     "execution_count": 169,
     "metadata": {},
     "output_type": "execute_result"
    }
   ],
   "source": [
    "#check how many texts were collected from each identified source in the data set\n",
    "Netflix_text_data.groupby(['source'])['text'].count()"
   ]
  },
  {
   "cell_type": "code",
   "execution_count": 170,
   "id": "c7907cd6",
   "metadata": {},
   "outputs": [
    {
     "data": {
      "text/html": [
       "<div>\n",
       "<style scoped>\n",
       "    .dataframe tbody tr th:only-of-type {\n",
       "        vertical-align: middle;\n",
       "    }\n",
       "\n",
       "    .dataframe tbody tr th {\n",
       "        vertical-align: top;\n",
       "    }\n",
       "\n",
       "    .dataframe thead th {\n",
       "        text-align: right;\n",
       "    }\n",
       "</style>\n",
       "<table border=\"1\" class=\"dataframe\">\n",
       "  <thead>\n",
       "    <tr style=\"text-align: right;\">\n",
       "      <th></th>\n",
       "      <th>text</th>\n",
       "    </tr>\n",
       "    <tr>\n",
       "      <th>source</th>\n",
       "      <th></th>\n",
       "    </tr>\n",
       "  </thead>\n",
       "  <tbody>\n",
       "    <tr>\n",
       "      <th>10minutetrading</th>\n",
       "      <td>False</td>\n",
       "    </tr>\n",
       "    <tr>\n",
       "      <th>143stock</th>\n",
       "      <td>False</td>\n",
       "    </tr>\n",
       "    <tr>\n",
       "      <th>28delayslater</th>\n",
       "      <td>False</td>\n",
       "    </tr>\n",
       "    <tr>\n",
       "      <th>ABraveBull</th>\n",
       "      <td>False</td>\n",
       "    </tr>\n",
       "    <tr>\n",
       "      <th>AlertsChina</th>\n",
       "      <td>False</td>\n",
       "    </tr>\n",
       "    <tr>\n",
       "      <th>...</th>\n",
       "      <td>...</td>\n",
       "    </tr>\n",
       "    <tr>\n",
       "      <th>tex_films</th>\n",
       "      <td>False</td>\n",
       "    </tr>\n",
       "    <tr>\n",
       "      <th>the_chart_life</th>\n",
       "      <td>False</td>\n",
       "    </tr>\n",
       "    <tr>\n",
       "      <th>tradnews_</th>\n",
       "      <td>False</td>\n",
       "    </tr>\n",
       "    <tr>\n",
       "      <th>ttttt0mmmmm</th>\n",
       "      <td>False</td>\n",
       "    </tr>\n",
       "    <tr>\n",
       "      <th>watchfulmkteye</th>\n",
       "      <td>False</td>\n",
       "    </tr>\n",
       "  </tbody>\n",
       "</table>\n",
       "<p>93 rows × 1 columns</p>\n",
       "</div>"
      ],
      "text/plain": [
       "                  text\n",
       "source                \n",
       "10minutetrading  False\n",
       "143stock         False\n",
       "28delayslater    False\n",
       "ABraveBull       False\n",
       "AlertsChina      False\n",
       "...                ...\n",
       "tex_films        False\n",
       "the_chart_life   False\n",
       "tradnews_        False\n",
       "ttttt0mmmmm      False\n",
       "watchfulmkteye   False\n",
       "\n",
       "[93 rows x 1 columns]"
      ]
     },
     "execution_count": 170,
     "metadata": {},
     "output_type": "execute_result"
    }
   ],
   "source": [
    "#check if any source has more than one text\n",
    "pd.DataFrame(Netflix_text_data.groupby(['source'])['text'].count()>1)"
   ]
  },
  {
   "cell_type": "code",
   "execution_count": 171,
   "id": "ded272e6",
   "metadata": {},
   "outputs": [],
   "source": [
    "src_frq = pd.DataFrame(Netflix_text_data.groupby(['source'])['text'].count()>1)"
   ]
  },
  {
   "cell_type": "code",
   "execution_count": 172,
   "id": "c372d8e5",
   "metadata": {},
   "outputs": [
    {
     "data": {
      "text/html": [
       "<div>\n",
       "<style scoped>\n",
       "    .dataframe tbody tr th:only-of-type {\n",
       "        vertical-align: middle;\n",
       "    }\n",
       "\n",
       "    .dataframe tbody tr th {\n",
       "        vertical-align: top;\n",
       "    }\n",
       "\n",
       "    .dataframe thead th {\n",
       "        text-align: right;\n",
       "    }\n",
       "</style>\n",
       "<table border=\"1\" class=\"dataframe\">\n",
       "  <thead>\n",
       "    <tr style=\"text-align: right;\">\n",
       "      <th></th>\n",
       "      <th>text</th>\n",
       "    </tr>\n",
       "    <tr>\n",
       "      <th>source</th>\n",
       "      <th></th>\n",
       "    </tr>\n",
       "  </thead>\n",
       "  <tbody>\n",
       "    <tr>\n",
       "      <th>10minutetrading</th>\n",
       "      <td>False</td>\n",
       "    </tr>\n",
       "    <tr>\n",
       "      <th>143stock</th>\n",
       "      <td>False</td>\n",
       "    </tr>\n",
       "    <tr>\n",
       "      <th>28delayslater</th>\n",
       "      <td>False</td>\n",
       "    </tr>\n",
       "    <tr>\n",
       "      <th>ABraveBull</th>\n",
       "      <td>False</td>\n",
       "    </tr>\n",
       "    <tr>\n",
       "      <th>AlertsChina</th>\n",
       "      <td>False</td>\n",
       "    </tr>\n",
       "  </tbody>\n",
       "</table>\n",
       "</div>"
      ],
      "text/plain": [
       "                  text\n",
       "source                \n",
       "10minutetrading  False\n",
       "143stock         False\n",
       "28delayslater    False\n",
       "ABraveBull       False\n",
       "AlertsChina      False"
      ]
     },
     "execution_count": 172,
     "metadata": {},
     "output_type": "execute_result"
    }
   ],
   "source": [
    "#view\n",
    "src_frq.head()"
   ]
  },
  {
   "cell_type": "code",
   "execution_count": 173,
   "id": "7e87b521",
   "metadata": {},
   "outputs": [],
   "source": [
    "#reset index\n",
    "src_frq = src_frq.reset_index()"
   ]
  },
  {
   "cell_type": "code",
   "execution_count": 174,
   "id": "b8004069",
   "metadata": {},
   "outputs": [
    {
     "data": {
      "text/html": [
       "<div>\n",
       "<style scoped>\n",
       "    .dataframe tbody tr th:only-of-type {\n",
       "        vertical-align: middle;\n",
       "    }\n",
       "\n",
       "    .dataframe tbody tr th {\n",
       "        vertical-align: top;\n",
       "    }\n",
       "\n",
       "    .dataframe thead th {\n",
       "        text-align: right;\n",
       "    }\n",
       "</style>\n",
       "<table border=\"1\" class=\"dataframe\">\n",
       "  <thead>\n",
       "    <tr style=\"text-align: right;\">\n",
       "      <th></th>\n",
       "      <th>source</th>\n",
       "      <th>text</th>\n",
       "    </tr>\n",
       "  </thead>\n",
       "  <tbody>\n",
       "    <tr>\n",
       "      <th>0</th>\n",
       "      <td>10minutetrading</td>\n",
       "      <td>False</td>\n",
       "    </tr>\n",
       "    <tr>\n",
       "      <th>1</th>\n",
       "      <td>143stock</td>\n",
       "      <td>False</td>\n",
       "    </tr>\n",
       "    <tr>\n",
       "      <th>2</th>\n",
       "      <td>28delayslater</td>\n",
       "      <td>False</td>\n",
       "    </tr>\n",
       "    <tr>\n",
       "      <th>3</th>\n",
       "      <td>ABraveBull</td>\n",
       "      <td>False</td>\n",
       "    </tr>\n",
       "    <tr>\n",
       "      <th>4</th>\n",
       "      <td>AlertsChina</td>\n",
       "      <td>False</td>\n",
       "    </tr>\n",
       "  </tbody>\n",
       "</table>\n",
       "</div>"
      ],
      "text/plain": [
       "            source   text\n",
       "0  10minutetrading  False\n",
       "1         143stock  False\n",
       "2    28delayslater  False\n",
       "3       ABraveBull  False\n",
       "4      AlertsChina  False"
      ]
     },
     "execution_count": 174,
     "metadata": {},
     "output_type": "execute_result"
    }
   ],
   "source": [
    "#view\n",
    "src_frq.head()"
   ]
  },
  {
   "cell_type": "code",
   "execution_count": 175,
   "id": "9f0bc307",
   "metadata": {},
   "outputs": [
    {
     "data": {
      "text/html": [
       "<div>\n",
       "<style scoped>\n",
       "    .dataframe tbody tr th:only-of-type {\n",
       "        vertical-align: middle;\n",
       "    }\n",
       "\n",
       "    .dataframe tbody tr th {\n",
       "        vertical-align: top;\n",
       "    }\n",
       "\n",
       "    .dataframe thead th {\n",
       "        text-align: right;\n",
       "    }\n",
       "</style>\n",
       "<table border=\"1\" class=\"dataframe\">\n",
       "  <thead>\n",
       "    <tr style=\"text-align: right;\">\n",
       "      <th></th>\n",
       "      <th>source</th>\n",
       "      <th>text</th>\n",
       "    </tr>\n",
       "  </thead>\n",
       "  <tbody>\n",
       "    <tr>\n",
       "      <th>39</th>\n",
       "      <td>SmartTraderTips</td>\n",
       "      <td>True</td>\n",
       "    </tr>\n",
       "    <tr>\n",
       "      <th>79</th>\n",
       "      <td>optionalarmchat</td>\n",
       "      <td>True</td>\n",
       "    </tr>\n",
       "    <tr>\n",
       "      <th>87</th>\n",
       "      <td>teresaarthur66</td>\n",
       "      <td>True</td>\n",
       "    </tr>\n",
       "  </tbody>\n",
       "</table>\n",
       "</div>"
      ],
      "text/plain": [
       "             source  text\n",
       "39  SmartTraderTips  True\n",
       "79  optionalarmchat  True\n",
       "87   teresaarthur66  True"
      ]
     },
     "execution_count": 175,
     "metadata": {},
     "output_type": "execute_result"
    }
   ],
   "source": [
    "#check for true\n",
    "src_frq[src_frq['text']==True]"
   ]
  },
  {
   "cell_type": "markdown",
   "id": "1b3a7a74",
   "metadata": {},
   "source": [
    "* Three sources have more than one text generated from them.\n",
    "* Let's check the frequency"
   ]
  },
  {
   "cell_type": "code",
   "execution_count": 176,
   "id": "d24766b9",
   "metadata": {},
   "outputs": [],
   "source": [
    "\n",
    "src_greater_num_txt = pd.DataFrame(Netflix_text_data[(Netflix_text_data['source']=='SmartTraderTips') | (Netflix_text_data['source']=='optionalarmchat')|(Netflix_text_data['source']=='teresaarthur66')])"
   ]
  },
  {
   "cell_type": "code",
   "execution_count": 177,
   "id": "3842de08",
   "metadata": {},
   "outputs": [
    {
     "data": {
      "text/html": [
       "<div>\n",
       "<style scoped>\n",
       "    .dataframe tbody tr th:only-of-type {\n",
       "        vertical-align: middle;\n",
       "    }\n",
       "\n",
       "    .dataframe tbody tr th {\n",
       "        vertical-align: top;\n",
       "    }\n",
       "\n",
       "    .dataframe thead th {\n",
       "        text-align: right;\n",
       "    }\n",
       "</style>\n",
       "<table border=\"1\" class=\"dataframe\">\n",
       "  <thead>\n",
       "    <tr style=\"text-align: right;\">\n",
       "      <th></th>\n",
       "      <th>id</th>\n",
       "      <th>text</th>\n",
       "      <th>timestamp</th>\n",
       "      <th>source</th>\n",
       "      <th>symbols</th>\n",
       "      <th>company_names</th>\n",
       "      <th>url</th>\n",
       "      <th>verified</th>\n",
       "    </tr>\n",
       "  </thead>\n",
       "  <tbody>\n",
       "    <tr>\n",
       "      <th>26332</th>\n",
       "      <td>1019692061682012200</td>\n",
       "      <td>NOW OFFERING 7 Day FREE Trial to  options day trading team Room or $TWTR feed https://t.co/1qw3QSIB0I $FB $AAPL $NFLX $TSLA $AMZN $GOOGL</td>\n",
       "      <td>Wed Jul 18 21:15:07 +0000 2018</td>\n",
       "      <td>optionalarmchat</td>\n",
       "      <td>NFLX</td>\n",
       "      <td>Netflix</td>\n",
       "      <td>http://ow.ly/bbVr30kY55t</td>\n",
       "      <td>False</td>\n",
       "    </tr>\n",
       "    <tr>\n",
       "      <th>26729</th>\n",
       "      <td>1019699616516886500</td>\n",
       "      <td>REAL TIME TRADE ALERTS via PRIVATE $TWTR FEED perfect for people who have FT jobs and trade part-time! $AMZN $NFLX $GOOGL $BABA $C $FB</td>\n",
       "      <td>Wed Jul 18 21:45:08 +0000 2018</td>\n",
       "      <td>optionalarmchat</td>\n",
       "      <td>NFLX</td>\n",
       "      <td>Netflix</td>\n",
       "      <td>NaN</td>\n",
       "      <td>False</td>\n",
       "    </tr>\n",
       "    <tr>\n",
       "      <th>26969</th>\n",
       "      <td>1019704996793905200</td>\n",
       "      <td>WTF $NFLX is not back to 423.21 yet? But $MS said $520 😂😂 A short since 394.42 was broken with targets being 353.4… https://t.co/Bazzr45eoI</td>\n",
       "      <td>Wed Jul 18 22:06:31 +0000 2018</td>\n",
       "      <td>SmartTraderTips</td>\n",
       "      <td>NFLX</td>\n",
       "      <td>Netflix</td>\n",
       "      <td>https://twitter.com/i/web/status/1019704996793905152</td>\n",
       "      <td>False</td>\n",
       "    </tr>\n",
       "    <tr>\n",
       "      <th>27088</th>\n",
       "      <td>1019707164749959200</td>\n",
       "      <td>1 to 4  trade alerts with 50% to 100% profit potential everyday try our team https://t.co/4qoiMBr9vp   $FB $NFLX $AMZN $SPX $TSLA $AAPL $GS</td>\n",
       "      <td>Wed Jul 18 22:15:07 +0000 2018</td>\n",
       "      <td>optionalarmchat</td>\n",
       "      <td>NFLX</td>\n",
       "      <td>Netflix</td>\n",
       "      <td>http://ow.ly/2uri30kY55u</td>\n",
       "      <td>False</td>\n",
       "    </tr>\n",
       "    <tr>\n",
       "      <th>27104</th>\n",
       "      <td>1019707464852394000</td>\n",
       "      <td>$NFLX $BAC $MU $FB $AAPL $MSFT $BABA $F $JD $GE $IBM $TWTR $GGP $AAL $TSLA $NXPI $AMD $SBUX $PG $EBAY $JPM $MS $UAL… https://t.co/ZwVUZrZCwX</td>\n",
       "      <td>Wed Jul 18 22:16:19 +0000 2018</td>\n",
       "      <td>teresaarthur66</td>\n",
       "      <td>NFLX</td>\n",
       "      <td>Netflix</td>\n",
       "      <td>https://twitter.com/i/web/status/1019707464852393984</td>\n",
       "      <td>False</td>\n",
       "    </tr>\n",
       "  </tbody>\n",
       "</table>\n",
       "</div>"
      ],
      "text/plain": [
       "                        id  \\\n",
       "26332  1019692061682012200   \n",
       "26729  1019699616516886500   \n",
       "26969  1019704996793905200   \n",
       "27088  1019707164749959200   \n",
       "27104  1019707464852394000   \n",
       "\n",
       "                                                                                                                                               text  \\\n",
       "26332      NOW OFFERING 7 Day FREE Trial to  options day trading team Room or $TWTR feed https://t.co/1qw3QSIB0I $FB $AAPL $NFLX $TSLA $AMZN $GOOGL   \n",
       "26729        REAL TIME TRADE ALERTS via PRIVATE $TWTR FEED perfect for people who have FT jobs and trade part-time! $AMZN $NFLX $GOOGL $BABA $C $FB   \n",
       "26969   WTF $NFLX is not back to 423.21 yet? But $MS said $520 😂😂 A short since 394.42 was broken with targets being 353.4… https://t.co/Bazzr45eoI   \n",
       "27088   1 to 4  trade alerts with 50% to 100% profit potential everyday try our team https://t.co/4qoiMBr9vp   $FB $NFLX $AMZN $SPX $TSLA $AAPL $GS   \n",
       "27104  $NFLX $BAC $MU $FB $AAPL $MSFT $BABA $F $JD $GE $IBM $TWTR $GGP $AAL $TSLA $NXPI $AMD $SBUX $PG $EBAY $JPM $MS $UAL… https://t.co/ZwVUZrZCwX   \n",
       "\n",
       "                            timestamp           source symbols company_names  \\\n",
       "26332  Wed Jul 18 21:15:07 +0000 2018  optionalarmchat    NFLX       Netflix   \n",
       "26729  Wed Jul 18 21:45:08 +0000 2018  optionalarmchat    NFLX       Netflix   \n",
       "26969  Wed Jul 18 22:06:31 +0000 2018  SmartTraderTips    NFLX       Netflix   \n",
       "27088  Wed Jul 18 22:15:07 +0000 2018  optionalarmchat    NFLX       Netflix   \n",
       "27104  Wed Jul 18 22:16:19 +0000 2018   teresaarthur66    NFLX       Netflix   \n",
       "\n",
       "                                                        url  verified  \n",
       "26332                              http://ow.ly/bbVr30kY55t     False  \n",
       "26729                                                   NaN     False  \n",
       "26969  https://twitter.com/i/web/status/1019704996793905152     False  \n",
       "27088                              http://ow.ly/2uri30kY55u     False  \n",
       "27104  https://twitter.com/i/web/status/1019707464852393984     False  "
      ]
     },
     "execution_count": 177,
     "metadata": {},
     "output_type": "execute_result"
    }
   ],
   "source": [
    "#view\n",
    "\n",
    "src_greater_num_txt.head()\n"
   ]
  },
  {
   "cell_type": "code",
   "execution_count": 178,
   "id": "7a7ebff3",
   "metadata": {},
   "outputs": [
    {
     "name": "stdout",
     "output_type": "stream",
     "text": [
      "(11, 8)\n"
     ]
    }
   ],
   "source": [
    "#check size\n",
    "print(src_greater_num_txt.shape)"
   ]
  },
  {
   "cell_type": "code",
   "execution_count": 179,
   "id": "fabe696c",
   "metadata": {},
   "outputs": [
    {
     "data": {
      "text/plain": [
       "source\n",
       "SmartTraderTips    2\n",
       "optionalarmchat    6\n",
       "teresaarthur66     3\n",
       "Name: text, dtype: int64"
      ]
     },
     "execution_count": 179,
     "metadata": {},
     "output_type": "execute_result"
    }
   ],
   "source": [
    "#check number of text from each of these three sources\n",
    "src_greater_num_txt.groupby(['source']).count()['text']"
   ]
  },
  {
   "cell_type": "markdown",
   "id": "253f7e7c",
   "metadata": {},
   "source": [
    "* There are 2 texts from SmartTraderTips, 6 texts from optionalarmchat, and 3 texts from teresaarthur66 within the 2hours the data was collected\n"
   ]
  },
  {
   "cell_type": "markdown",
   "id": "db755bdb",
   "metadata": {},
   "source": [
    "### Research Questions:\n",
    "\n",
    "* How can topic and sentiment analyis be combined to better assessonline public opinions of a specific company- case Netflix\n",
    "* What can the uncovered online opinions tell us about various aspect of a company?"
   ]
  },
  {
   "cell_type": "markdown",
   "id": "89b79d2f",
   "metadata": {},
   "source": [
    "* To perform topic and sentiment analysis, we will use the Python package- Spacy. Spacy is an NLP library in Python that is fast and efficient. It support word vectors that would be significant for topic analysis."
   ]
  },
  {
   "cell_type": "markdown",
   "id": "beae34c0",
   "metadata": {},
   "source": [
    "### install spacy model to resolve 'en_core error'\n",
    "!pip3 install https://github.com/explosion/spacy-models/releases/download/en_core_web_sm-3.0.0/en_core_web_sm-3.0.0.tar.gz"
   ]
  },
  {
   "cell_type": "markdown",
   "id": "1632aa4b",
   "metadata": {},
   "source": [
    "### Text Data Preprocessing & Cleaning"
   ]
  },
  {
   "cell_type": "markdown",
   "id": "d2fa6885",
   "metadata": {},
   "source": [
    "#use Spacy library\n",
    "nlp = sp.load(\"en_core_web_sm\")"
   ]
  },
  {
   "cell_type": "code",
   "execution_count": 180,
   "id": "774f5dec",
   "metadata": {},
   "outputs": [
    {
     "name": "stderr",
     "output_type": "stream",
     "text": [
      "/Users/olabisibalogun/opt/anaconda3/lib/python3.9/site-packages/spacy/util.py:910: UserWarning: [W095] Model 'en_core_web_sm' (3.0.0) was trained with spaCy v3.0.0 and may not be 100% compatible with the current version (3.7.4). If you see errors or degraded performance, download a newer compatible model or retrain your custom model with the current spaCy version. For more details and available updates, run: python -m spacy validate\n",
      "  warnings.warn(warn_msg)\n"
     ]
    }
   ],
   "source": [
    "#use Spacy library\n",
    "import en_core_web_sm\n",
    "nlp = en_core_web_sm.load()"
   ]
  },
  {
   "cell_type": "code",
   "execution_count": 181,
   "id": "e3a5e31d",
   "metadata": {},
   "outputs": [
    {
     "data": {
      "text/plain": [
       "'Senate wants emergency alerts to go out through Netflix Spotify etc. https://t.co/23yy3whBlc by @grg'"
      ]
     },
     "execution_count": 181,
     "metadata": {},
     "output_type": "execute_result"
    }
   ],
   "source": [
    "Netflix_text_data.text[8]"
   ]
  },
  {
   "cell_type": "code",
   "execution_count": 182,
   "id": "45d85eac",
   "metadata": {},
   "outputs": [
    {
     "name": "stdout",
     "output_type": "stream",
     "text": [
      "Senate wants emergency alerts to go out through Netflix Spotify etc. https://t.co/23yy3whBlc by @grg\n"
     ]
    }
   ],
   "source": [
    "doc = nlp(Netflix_text_data.text[8])\n",
    "print(doc)"
   ]
  },
  {
   "cell_type": "code",
   "execution_count": 183,
   "id": "f5a61753",
   "metadata": {},
   "outputs": [
    {
     "name": "stdout",
     "output_type": "stream",
     "text": [
      "Netflix $NFLX just released quarterly 10-Q.  Quarterly net income increased from 127M to 462 Million!!! 400% ⬆️ https://t.co/K9JywuGpjN\n"
     ]
    }
   ],
   "source": [
    "doc = nlp(Netflix_text_data.text[26216])\n",
    "print(doc)"
   ]
  },
  {
   "cell_type": "code",
   "execution_count": 191,
   "id": "a9ba53d9",
   "metadata": {},
   "outputs": [],
   "source": [
    "#Subset a data to explore and build a data cleaning function\n",
    "Netflix_text_subdata = Netflix_text_data[:10]"
   ]
  },
  {
   "cell_type": "code",
   "execution_count": 192,
   "id": "8eaa896e",
   "metadata": {},
   "outputs": [
    {
     "data": {
      "text/html": [
       "<div>\n",
       "<style scoped>\n",
       "    .dataframe tbody tr th:only-of-type {\n",
       "        vertical-align: middle;\n",
       "    }\n",
       "\n",
       "    .dataframe tbody tr th {\n",
       "        vertical-align: top;\n",
       "    }\n",
       "\n",
       "    .dataframe thead th {\n",
       "        text-align: right;\n",
       "    }\n",
       "</style>\n",
       "<table border=\"1\" class=\"dataframe\">\n",
       "  <thead>\n",
       "    <tr style=\"text-align: right;\">\n",
       "      <th></th>\n",
       "      <th>id</th>\n",
       "      <th>text</th>\n",
       "      <th>timestamp</th>\n",
       "      <th>source</th>\n",
       "      <th>symbols</th>\n",
       "      <th>company_names</th>\n",
       "      <th>url</th>\n",
       "      <th>verified</th>\n",
       "    </tr>\n",
       "  </thead>\n",
       "  <tbody>\n",
       "    <tr>\n",
       "      <th>8</th>\n",
       "      <td>1019720723441635300</td>\n",
       "      <td>Senate wants emergency alerts to go out through Netflix Spotify etc. https://t.co/23yy3whBlc by @grg</td>\n",
       "      <td>Wed Jul 18 23:09:00 +0000 2018</td>\n",
       "      <td>TechCrunch</td>\n",
       "      <td>NFLX</td>\n",
       "      <td>Netflix</td>\n",
       "      <td>https://tcrn.ch/2L8DsgT</td>\n",
       "      <td>True</td>\n",
       "    </tr>\n",
       "    <tr>\n",
       "      <th>26216</th>\n",
       "      <td>1019690098236055600</td>\n",
       "      <td>Netflix $NFLX just released quarterly 10-Q.  Quarterly net income increased from 127M to 462 Million!!! 400% ⬆️ https://t.co/K9JywuGpjN</td>\n",
       "      <td>Wed Jul 18 21:07:19 +0000 2018</td>\n",
       "      <td>Feedmeistercom</td>\n",
       "      <td>NFLX</td>\n",
       "      <td>Netflix</td>\n",
       "      <td>NaN</td>\n",
       "      <td>False</td>\n",
       "    </tr>\n",
       "    <tr>\n",
       "      <th>26223</th>\n",
       "      <td>1019690300187533300</td>\n",
       "      <td>RT @blackbullforex: Excluding FAANG Stocks The S&amp;amp;P Would Be Negative @BankofAmerica  Just the Top 4 stocks Amazon Microsoft Apple and N…</td>\n",
       "      <td>Wed Jul 18 21:08:07 +0000 2018</td>\n",
       "      <td>dexoidan</td>\n",
       "      <td>NFLX</td>\n",
       "      <td>Netflix</td>\n",
       "      <td>NaN</td>\n",
       "      <td>False</td>\n",
       "    </tr>\n",
       "    <tr>\n",
       "      <th>26236</th>\n",
       "      <td>1019690538398707700</td>\n",
       "      <td>RT @RampCapitalLLC: Here is where $FANG was trading the last time the National League won the MLB All Star Game: $FB $31.47 $AMZN $219.50…</td>\n",
       "      <td>Wed Jul 18 21:09:03 +0000 2018</td>\n",
       "      <td>hs_traders</td>\n",
       "      <td>NFLX</td>\n",
       "      <td>Netflix</td>\n",
       "      <td>NaN</td>\n",
       "      <td>False</td>\n",
       "    </tr>\n",
       "    <tr>\n",
       "      <th>26239</th>\n",
       "      <td>1019690604559851500</td>\n",
       "      <td>RT @SevenPointsCap: Trader Takeaways 7.18.18 by @kris23joshi. Focus on $SPY $NFLX $UVXY $MS $CSX $ABT and $UAL. https://t.co/NvwYhYaALs</td>\n",
       "      <td>Wed Jul 18 21:09:19 +0000 2018</td>\n",
       "      <td>clovisskyline</td>\n",
       "      <td>NFLX</td>\n",
       "      <td>Netflix</td>\n",
       "      <td>http://youtu.be/MLmX7WMEBVM?a</td>\n",
       "      <td>False</td>\n",
       "    </tr>\n",
       "  </tbody>\n",
       "</table>\n",
       "</div>"
      ],
      "text/plain": [
       "                        id  \\\n",
       "8      1019720723441635300   \n",
       "26216  1019690098236055600   \n",
       "26223  1019690300187533300   \n",
       "26236  1019690538398707700   \n",
       "26239  1019690604559851500   \n",
       "\n",
       "                                                                                                                                               text  \\\n",
       "8                                              Senate wants emergency alerts to go out through Netflix Spotify etc. https://t.co/23yy3whBlc by @grg   \n",
       "26216       Netflix $NFLX just released quarterly 10-Q.  Quarterly net income increased from 127M to 462 Million!!! 400% ⬆️ https://t.co/K9JywuGpjN   \n",
       "26223  RT @blackbullforex: Excluding FAANG Stocks The S&amp;P Would Be Negative @BankofAmerica  Just the Top 4 stocks Amazon Microsoft Apple and N…   \n",
       "26236    RT @RampCapitalLLC: Here is where $FANG was trading the last time the National League won the MLB All Star Game: $FB $31.47 $AMZN $219.50…   \n",
       "26239       RT @SevenPointsCap: Trader Takeaways 7.18.18 by @kris23joshi. Focus on $SPY $NFLX $UVXY $MS $CSX $ABT and $UAL. https://t.co/NvwYhYaALs   \n",
       "\n",
       "                            timestamp          source symbols company_names  \\\n",
       "8      Wed Jul 18 23:09:00 +0000 2018      TechCrunch    NFLX       Netflix   \n",
       "26216  Wed Jul 18 21:07:19 +0000 2018  Feedmeistercom    NFLX       Netflix   \n",
       "26223  Wed Jul 18 21:08:07 +0000 2018        dexoidan    NFLX       Netflix   \n",
       "26236  Wed Jul 18 21:09:03 +0000 2018      hs_traders    NFLX       Netflix   \n",
       "26239  Wed Jul 18 21:09:19 +0000 2018   clovisskyline    NFLX       Netflix   \n",
       "\n",
       "                                 url  verified  \n",
       "8            https://tcrn.ch/2L8DsgT      True  \n",
       "26216                            NaN     False  \n",
       "26223                            NaN     False  \n",
       "26236                            NaN     False  \n",
       "26239  http://youtu.be/MLmX7WMEBVM?a     False  "
      ]
     },
     "execution_count": 192,
     "metadata": {},
     "output_type": "execute_result"
    }
   ],
   "source": [
    "Netflix_text_subdata.head()"
   ]
  },
  {
   "cell_type": "code",
   "execution_count": 193,
   "id": "33b16502",
   "metadata": {},
   "outputs": [],
   "source": [
    "#subset the required column text\n",
    "Netflix_text_subdata = Netflix_text_subdata[['text']]"
   ]
  },
  {
   "cell_type": "code",
   "execution_count": 194,
   "id": "c651c13c",
   "metadata": {},
   "outputs": [
    {
     "data": {
      "text/html": [
       "<div>\n",
       "<style scoped>\n",
       "    .dataframe tbody tr th:only-of-type {\n",
       "        vertical-align: middle;\n",
       "    }\n",
       "\n",
       "    .dataframe tbody tr th {\n",
       "        vertical-align: top;\n",
       "    }\n",
       "\n",
       "    .dataframe thead th {\n",
       "        text-align: right;\n",
       "    }\n",
       "</style>\n",
       "<table border=\"1\" class=\"dataframe\">\n",
       "  <thead>\n",
       "    <tr style=\"text-align: right;\">\n",
       "      <th></th>\n",
       "      <th>text</th>\n",
       "    </tr>\n",
       "  </thead>\n",
       "  <tbody>\n",
       "    <tr>\n",
       "      <th>8</th>\n",
       "      <td>Senate wants emergency alerts to go out through Netflix Spotify etc. https://t.co/23yy3whBlc by @grg</td>\n",
       "    </tr>\n",
       "    <tr>\n",
       "      <th>26216</th>\n",
       "      <td>Netflix $NFLX just released quarterly 10-Q.  Quarterly net income increased from 127M to 462 Million!!! 400% ⬆️ https://t.co/K9JywuGpjN</td>\n",
       "    </tr>\n",
       "    <tr>\n",
       "      <th>26223</th>\n",
       "      <td>RT @blackbullforex: Excluding FAANG Stocks The S&amp;amp;P Would Be Negative @BankofAmerica  Just the Top 4 stocks Amazon Microsoft Apple and N…</td>\n",
       "    </tr>\n",
       "    <tr>\n",
       "      <th>26236</th>\n",
       "      <td>RT @RampCapitalLLC: Here is where $FANG was trading the last time the National League won the MLB All Star Game: $FB $31.47 $AMZN $219.50…</td>\n",
       "    </tr>\n",
       "    <tr>\n",
       "      <th>26239</th>\n",
       "      <td>RT @SevenPointsCap: Trader Takeaways 7.18.18 by @kris23joshi. Focus on $SPY $NFLX $UVXY $MS $CSX $ABT and $UAL. https://t.co/NvwYhYaALs</td>\n",
       "    </tr>\n",
       "  </tbody>\n",
       "</table>\n",
       "</div>"
      ],
      "text/plain": [
       "                                                                                                                                               text\n",
       "8                                              Senate wants emergency alerts to go out through Netflix Spotify etc. https://t.co/23yy3whBlc by @grg\n",
       "26216       Netflix $NFLX just released quarterly 10-Q.  Quarterly net income increased from 127M to 462 Million!!! 400% ⬆️ https://t.co/K9JywuGpjN\n",
       "26223  RT @blackbullforex: Excluding FAANG Stocks The S&amp;P Would Be Negative @BankofAmerica  Just the Top 4 stocks Amazon Microsoft Apple and N…\n",
       "26236    RT @RampCapitalLLC: Here is where $FANG was trading the last time the National League won the MLB All Star Game: $FB $31.47 $AMZN $219.50…\n",
       "26239       RT @SevenPointsCap: Trader Takeaways 7.18.18 by @kris23joshi. Focus on $SPY $NFLX $UVXY $MS $CSX $ABT and $UAL. https://t.co/NvwYhYaALs"
      ]
     },
     "execution_count": 194,
     "metadata": {},
     "output_type": "execute_result"
    }
   ],
   "source": [
    "#view\n",
    "pd.set_option('display.max_colwidth', None)\n",
    "Netflix_text_subdata.head()"
   ]
  },
  {
   "cell_type": "markdown",
   "id": "42323007",
   "metadata": {},
   "source": [
    "### Data Cleaning Process"
   ]
  },
  {
   "cell_type": "markdown",
   "id": "3aefc71c",
   "metadata": {},
   "source": [
    "* Remove URL links\n",
    "* Remove usernames"
   ]
  },
  {
   "cell_type": "code",
   "execution_count": 195,
   "id": "a425830d",
   "metadata": {},
   "outputs": [],
   "source": [
    "#remove URL links\n",
    "Netflix_text_subdata['text'] = Netflix_text_subdata['text'].str.replace(r'http\\S+','',regex=True)"
   ]
  },
  {
   "cell_type": "code",
   "execution_count": 196,
   "id": "97cf42f2",
   "metadata": {},
   "outputs": [
    {
     "data": {
      "text/html": [
       "<div>\n",
       "<style scoped>\n",
       "    .dataframe tbody tr th:only-of-type {\n",
       "        vertical-align: middle;\n",
       "    }\n",
       "\n",
       "    .dataframe tbody tr th {\n",
       "        vertical-align: top;\n",
       "    }\n",
       "\n",
       "    .dataframe thead th {\n",
       "        text-align: right;\n",
       "    }\n",
       "</style>\n",
       "<table border=\"1\" class=\"dataframe\">\n",
       "  <thead>\n",
       "    <tr style=\"text-align: right;\">\n",
       "      <th></th>\n",
       "      <th>text</th>\n",
       "    </tr>\n",
       "  </thead>\n",
       "  <tbody>\n",
       "    <tr>\n",
       "      <th>8</th>\n",
       "      <td>Senate wants emergency alerts to go out through Netflix Spotify etc.  by @grg</td>\n",
       "    </tr>\n",
       "    <tr>\n",
       "      <th>26216</th>\n",
       "      <td>Netflix $NFLX just released quarterly 10-Q.  Quarterly net income increased from 127M to 462 Million!!! 400% ⬆️</td>\n",
       "    </tr>\n",
       "    <tr>\n",
       "      <th>26223</th>\n",
       "      <td>RT @blackbullforex: Excluding FAANG Stocks The S&amp;amp;P Would Be Negative @BankofAmerica  Just the Top 4 stocks Amazon Microsoft Apple and N…</td>\n",
       "    </tr>\n",
       "    <tr>\n",
       "      <th>26236</th>\n",
       "      <td>RT @RampCapitalLLC: Here is where $FANG was trading the last time the National League won the MLB All Star Game: $FB $31.47 $AMZN $219.50…</td>\n",
       "    </tr>\n",
       "    <tr>\n",
       "      <th>26239</th>\n",
       "      <td>RT @SevenPointsCap: Trader Takeaways 7.18.18 by @kris23joshi. Focus on $SPY $NFLX $UVXY $MS $CSX $ABT and $UAL.</td>\n",
       "    </tr>\n",
       "  </tbody>\n",
       "</table>\n",
       "</div>"
      ],
      "text/plain": [
       "                                                                                                                                               text\n",
       "8                                                                     Senate wants emergency alerts to go out through Netflix Spotify etc.  by @grg\n",
       "26216                              Netflix $NFLX just released quarterly 10-Q.  Quarterly net income increased from 127M to 462 Million!!! 400% ⬆️ \n",
       "26223  RT @blackbullforex: Excluding FAANG Stocks The S&amp;P Would Be Negative @BankofAmerica  Just the Top 4 stocks Amazon Microsoft Apple and N…\n",
       "26236    RT @RampCapitalLLC: Here is where $FANG was trading the last time the National League won the MLB All Star Game: $FB $31.47 $AMZN $219.50…\n",
       "26239                              RT @SevenPointsCap: Trader Takeaways 7.18.18 by @kris23joshi. Focus on $SPY $NFLX $UVXY $MS $CSX $ABT and $UAL. "
      ]
     },
     "execution_count": 196,
     "metadata": {},
     "output_type": "execute_result"
    }
   ],
   "source": [
    "Netflix_text_subdata.head()"
   ]
  },
  {
   "cell_type": "code",
   "execution_count": 197,
   "id": "adbc64b0",
   "metadata": {},
   "outputs": [],
   "source": [
    "#remove usernames from text\n",
    "Netflix_text_subdata['text'] = Netflix_text_subdata['text'].str.replace(r'@[^\\s]+','',regex=True)"
   ]
  },
  {
   "cell_type": "code",
   "execution_count": 199,
   "id": "19fb42e7",
   "metadata": {},
   "outputs": [
    {
     "data": {
      "text/html": [
       "<div>\n",
       "<style scoped>\n",
       "    .dataframe tbody tr th:only-of-type {\n",
       "        vertical-align: middle;\n",
       "    }\n",
       "\n",
       "    .dataframe tbody tr th {\n",
       "        vertical-align: top;\n",
       "    }\n",
       "\n",
       "    .dataframe thead th {\n",
       "        text-align: right;\n",
       "    }\n",
       "</style>\n",
       "<table border=\"1\" class=\"dataframe\">\n",
       "  <thead>\n",
       "    <tr style=\"text-align: right;\">\n",
       "      <th></th>\n",
       "      <th>text</th>\n",
       "    </tr>\n",
       "  </thead>\n",
       "  <tbody>\n",
       "    <tr>\n",
       "      <th>8</th>\n",
       "      <td>Senate wants emergency alerts to go out through Netflix Spotify etc.  by</td>\n",
       "    </tr>\n",
       "    <tr>\n",
       "      <th>26216</th>\n",
       "      <td>Netflix $NFLX just released quarterly 10-Q.  Quarterly net income increased from 127M to 462 Million!!! 400% ⬆️</td>\n",
       "    </tr>\n",
       "    <tr>\n",
       "      <th>26223</th>\n",
       "      <td>RT  Excluding FAANG Stocks The S&amp;amp;P Would Be Negative   Just the Top 4 stocks Amazon Microsoft Apple and N…</td>\n",
       "    </tr>\n",
       "    <tr>\n",
       "      <th>26236</th>\n",
       "      <td>RT  Here is where $FANG was trading the last time the National League won the MLB All Star Game: $FB $31.47 $AMZN $219.50…</td>\n",
       "    </tr>\n",
       "    <tr>\n",
       "      <th>26239</th>\n",
       "      <td>RT  Trader Takeaways 7.18.18 by  Focus on $SPY $NFLX $UVXY $MS $CSX $ABT and $UAL.</td>\n",
       "    </tr>\n",
       "  </tbody>\n",
       "</table>\n",
       "</div>"
      ],
      "text/plain": [
       "                                                                                                                             text\n",
       "8                                                       Senate wants emergency alerts to go out through Netflix Spotify etc.  by \n",
       "26216            Netflix $NFLX just released quarterly 10-Q.  Quarterly net income increased from 127M to 462 Million!!! 400% ⬆️ \n",
       "26223              RT  Excluding FAANG Stocks The S&amp;P Would Be Negative   Just the Top 4 stocks Amazon Microsoft Apple and N…\n",
       "26236  RT  Here is where $FANG was trading the last time the National League won the MLB All Star Game: $FB $31.47 $AMZN $219.50…\n",
       "26239                                         RT  Trader Takeaways 7.18.18 by  Focus on $SPY $NFLX $UVXY $MS $CSX $ABT and $UAL. "
      ]
     },
     "execution_count": 199,
     "metadata": {},
     "output_type": "execute_result"
    }
   ],
   "source": [
    "Netflix_text_subdata.head()"
   ]
  },
  {
   "cell_type": "code",
   "execution_count": null,
   "id": "5ef996b7",
   "metadata": {},
   "outputs": [],
   "source": []
  }
 ],
 "metadata": {
  "kernelspec": {
   "display_name": "Python 3 (ipykernel)",
   "language": "python",
   "name": "python3"
  },
  "language_info": {
   "codemirror_mode": {
    "name": "ipython",
    "version": 3
   },
   "file_extension": ".py",
   "mimetype": "text/x-python",
   "name": "python",
   "nbconvert_exporter": "python",
   "pygments_lexer": "ipython3",
   "version": "3.9.12"
  }
 },
 "nbformat": 4,
 "nbformat_minor": 5
}
